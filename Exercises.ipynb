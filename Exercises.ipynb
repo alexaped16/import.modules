{
 "cells": [
  {
   "cell_type": "markdown",
   "metadata": {},
   "source": [
    "#### Exercise 1 - Class Inheritance"
   ]
  },
  {
   "cell_type": "markdown",
   "metadata": {},
   "source": [
    "Create an Employee class that sets an employee's first name, last name, job title, salary, and email. The Employee class should have a class attribute for the raise amount set to 5% (1.05). Create a method that will apply the raise to an employee's salary."
   ]
  },
  {
   "cell_type": "code",
   "execution_count": 16,
   "metadata": {},
   "outputs": [],
   "source": [
    "class Employee: \n",
    "    def __init__(self, first, last, job, salary):\n",
    "        self.first = first\n",
    "        self.last = last\n",
    "        self.job = job\n",
    "        self.salary = salary\n",
    "        self.email = first + \".\" + last + \"@company.com\"\n",
    "    \n",
    "    def apply_raise(self):\n",
    "        print(f\"Salary before raise: {self.salary}\")\n",
    "        self.salary = int(self.salary * 1.05)\n",
    "        print(f\"Salary after raise: {self.salary}\")"
   ]
  },
  {
   "cell_type": "markdown",
   "metadata": {},
   "source": [
    "Create two more classes that inherit from the Employee class. One for Sales and one for Development. Both of these classes will have the same attributes as the Employee.<br>\n",
    "- For the Sales employees, add a phone number attribute on instantiation using the super method. \n",
    "- Create a method on the Sales class that will Send a Follow Up Email. It should take in a customer name and \"send\" aka print a formatted email \"Dear *customer*, Thank you for your interest in our product. Please let me know if you have any questions. My email is *email* or my phone number is *phone number*. Thanks, *full name*\"\n",
    "- Create a method on the Development class called code that will print out \"*full name* is writing code\"."
   ]
  },
  {
   "cell_type": "code",
   "execution_count": 17,
   "metadata": {},
   "outputs": [],
   "source": [
    "class Sales(Employee): \n",
    "    def __init__(self, first, last, job, salary, phone):\n",
    "        self.phone = phone\n",
    "        super().__init__(first, last, job, salary) \n",
    "        \n",
    "    def followup(self, customer):\n",
    "        return f\"Hello {customer.title()}, Thank you for your interest in our product. Please let me know if you have any questions. My email is {self.email} or my phone number is {self.phone}. Thanks {self.first.title()} {self.last.title()}.\" \n",
    "    \n",
    "    \n",
    "class Development(Employee):\n",
    "        \n",
    "    def code(self):\n",
    "        return f\"{self.first.title()} {self.last.title()} is writing code.\" \n",
    "    "
   ]
  },
  {
   "cell_type": "markdown",
   "metadata": {},
   "source": [
    "- Create an instance of a Sales Employee with a salary of $50,000.\n",
    "- Send follow up emails to \"Mike O'Neil\" and \"Hannah Stern\"\n",
    "- Give the employee a raise and print the salary"
   ]
  },
  {
   "cell_type": "code",
   "execution_count": 18,
   "metadata": {},
   "outputs": [
    {
     "name": "stdout",
     "output_type": "stream",
     "text": [
      "Help on class Sales in module __main__:\n",
      "\n",
      "class Sales(Employee)\n",
      " |  Sales(first, last, job, salary, phone)\n",
      " |  \n",
      " |  Method resolution order:\n",
      " |      Sales\n",
      " |      Employee\n",
      " |      builtins.object\n",
      " |  \n",
      " |  Methods defined here:\n",
      " |  \n",
      " |  __init__(self, first, last, job, salary, phone)\n",
      " |      Initialize self.  See help(type(self)) for accurate signature.\n",
      " |  \n",
      " |  followup(self, customer)\n",
      " |  \n",
      " |  ----------------------------------------------------------------------\n",
      " |  Methods inherited from Employee:\n",
      " |  \n",
      " |  apply_raise(self)\n",
      " |  \n",
      " |  ----------------------------------------------------------------------\n",
      " |  Data descriptors inherited from Employee:\n",
      " |  \n",
      " |  __dict__\n",
      " |      dictionary for instance variables (if defined)\n",
      " |  \n",
      " |  __weakref__\n",
      " |      list of weak references to the object (if defined)\n",
      "\n"
     ]
    }
   ],
   "source": [
    "help(Sales)\n"
   ]
  },
  {
   "cell_type": "code",
   "execution_count": 19,
   "metadata": {},
   "outputs": [
    {
     "name": "stdout",
     "output_type": "stream",
     "text": [
      "Hello Mike O'Neil, Thank you for your interest in our product. Please let me know if you have any questions. My email is Eileen.Off@company.com or my phone number is 372-374-4747. Thanks Eileen Off.\n",
      "Hello Hannah Stern, Thank you for your interest in our product. Please let me know if you have any questions. My email is Eileen.Off@company.com or my phone number is 372-374-4747. Thanks Eileen Off.\n",
      "Salary before raise: 50000\n",
      "Salary after raise: 52500\n"
     ]
    }
   ],
   "source": [
    "s1 = Sales('Eileen','Off','Sales', 50000, '372-374-4747')\n",
    "print(s1.followup(\"Mike O'Neil\"))\n",
    "print(s1.followup('Hannah Stern'))\n",
    "s1.apply_raise()\n",
    "\n",
    "#print f\"Congratulations {self.first.title()} {self.last.title()}, you have recieved a raise! Your new salary is now {s1.salary}.\"\n"
   ]
  },
  {
   "cell_type": "markdown",
   "metadata": {},
   "source": [
    "- Create an instance of a Development Employee with a salary of $100,000\n",
    "- Write some code with this employee\n",
    "- Give the employee a raise and print the salary"
   ]
  },
  {
   "cell_type": "code",
   "execution_count": 20,
   "metadata": {},
   "outputs": [
    {
     "name": "stdout",
     "output_type": "stream",
     "text": [
      "Justin Case is writing code.\n",
      "Salary before raise: 100000\n",
      "Salary after raise: 105000\n"
     ]
    }
   ],
   "source": [
    "d1 = Development('Justin','Case','Development',100000)\n",
    "print(d1.code())\n",
    "d1.apply_raise()\n"
   ]
  },
  {
   "cell_type": "markdown",
   "metadata": {},
   "source": [
    "#### Exercise 2 - Importing Modules"
   ]
  },
  {
   "cell_type": "markdown",
   "metadata": {},
   "source": [
    "In VS Code, create a module titled `geometry` and add two functions in there. One that will calculate the area of a circle given a radius. The second will find the hypotenuse of a right angle given the two sides. Import the module or the functions from the module and use it to find the answers to the below questions"
   ]
  },
  {
   "cell_type": "markdown",
   "metadata": {},
   "source": [
    "What is the area of a circle with a radius of 7cm?"
   ]
  },
  {
   "cell_type": "code",
   "execution_count": 24,
   "metadata": {},
   "outputs": [
    {
     "name": "stdout",
     "output_type": "stream",
     "text": [
      "Enter the radius of a circle: 7\n",
      "Area of a circle = 153.94\n",
      "<module 'geometry' from '/Users/alexa/Documents/codingtemple/week3/day 2/geometry.py'>\n"
     ]
    }
   ],
   "source": [
    "import geometry\n",
    "\n",
    "print(geometry)\n"
   ]
  },
  {
   "cell_type": "markdown",
   "metadata": {},
   "source": [
    "What is the hypotenuse of a right angle with sides of 3in and 4in?"
   ]
  },
  {
   "cell_type": "code",
   "execution_count": 38,
   "metadata": {},
   "outputs": [
    {
     "ename": "AttributeError",
     "evalue": "module 'geometry' has no attribute 'hypotenuse'",
     "output_type": "error",
     "traceback": [
      "\u001b[0;31m---------------------------------------------------------------------------\u001b[0m",
      "\u001b[0;31mAttributeError\u001b[0m                            Traceback (most recent call last)",
      "\u001b[0;32m/var/folders/pg/zh7xx7gs1pj2hgng5_qshz1c0000gn/T/ipykernel_699/1262903264.py\u001b[0m in \u001b[0;36m<module>\u001b[0;34m\u001b[0m\n\u001b[1;32m      1\u001b[0m \u001b[0;32mfrom\u001b[0m \u001b[0mgeometry\u001b[0m \u001b[0;32mimport\u001b[0m \u001b[0;34m*\u001b[0m\u001b[0;34m\u001b[0m\u001b[0;34m\u001b[0m\u001b[0m\n\u001b[1;32m      2\u001b[0m \u001b[0;34m\u001b[0m\u001b[0m\n\u001b[0;32m----> 3\u001b[0;31m \u001b[0mgeometry\u001b[0m\u001b[0;34m.\u001b[0m\u001b[0mhypotenuse\u001b[0m\u001b[0;34m(\u001b[0m\u001b[0;34m)\u001b[0m\u001b[0;34m\u001b[0m\u001b[0;34m\u001b[0m\u001b[0m\n\u001b[0m",
      "\u001b[0;31mAttributeError\u001b[0m: module 'geometry' has no attribute 'hypotenuse'"
     ]
    }
   ],
   "source": [
    "from geometry import *\n",
    "\n",
    "geometry.hypotenuse() \n"
   ]
  },
  {
   "cell_type": "code",
   "execution_count": null,
   "metadata": {},
   "outputs": [],
   "source": []
  },
  {
   "cell_type": "code",
   "execution_count": null,
   "metadata": {},
   "outputs": [],
   "source": []
  }
 ],
 "metadata": {
  "kernelspec": {
   "display_name": "Python 3 (ipykernel)",
   "language": "python",
   "name": "python3"
  },
  "language_info": {
   "codemirror_mode": {
    "name": "ipython",
    "version": 3
   },
   "file_extension": ".py",
   "mimetype": "text/x-python",
   "name": "python",
   "nbconvert_exporter": "python",
   "pygments_lexer": "ipython3",
   "version": "3.9.7"
  }
 },
 "nbformat": 4,
 "nbformat_minor": 4
}
